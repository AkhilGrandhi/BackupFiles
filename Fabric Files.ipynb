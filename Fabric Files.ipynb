{
 "cells": [
  {
   "cell_type": "code",
   "execution_count": 1,
   "id": "6f6d303a-13a1-410a-8be5-fbc3411e5591",
   "metadata": {
    "jupyter": {
     "outputs_hidden": true
    },
    "microsoft": {
     "language": "python",
     "language_group": "synapse_pyspark"
    }
   },
   "outputs": [
    {
     "data": {
      "application/vnd.livy.statement-meta+json": {
       "execution_finish_time": "2025-03-04T11:54:58.6824576Z",
       "execution_start_time": "2025-03-04T11:54:56.3672809Z",
       "livy_statement_state": "available",
       "normalized_state": "finished",
       "parent_msg_id": "a8f47f4b-f0b1-4208-a267-d57930b0f2a5",
       "queued_time": "2025-03-04T11:54:51.6280398Z",
       "session_id": "b4b68dab-9ff3-4559-8db9-c426d9320ace",
       "session_start_time": null,
       "spark_pool": null,
       "state": "finished",
       "statement_id": 3,
       "statement_ids": [
        3
       ]
      },
      "text/plain": [
       "StatementMeta(, b4b68dab-9ff3-4559-8db9-c426d9320ace, 3, Finished, Available, Finished)"
      ]
     },
     "metadata": {},
     "output_type": "display_data"
    }
   ],
   "source": [
    "# %pip install semantic-link-labs\n",
    "# %pip install semantic-link-sempy\n",
    "# %pip install pyspark\n",
    "# %pip install semantic-link"
   ]
  },
  {
   "cell_type": "code",
   "execution_count": 1,
   "id": "f2aa9283-dab8-4967-bd17-754c222d7a1b",
   "metadata": {
    "microsoft": {
     "language": "python",
     "language_group": "synapse_pyspark"
    }
   },
   "outputs": [
    {
     "data": {
      "application/vnd.livy.statement-meta+json": {
       "execution_finish_time": "2025-03-05T09:58:12.3364149Z",
       "execution_start_time": "2025-03-05T09:58:09.199622Z",
       "livy_statement_state": "available",
       "normalized_state": "finished",
       "parent_msg_id": "f3dd21b8-b637-4477-9c94-977376fef6fe",
       "queued_time": "2025-03-05T09:55:26.7380827Z",
       "session_id": "6c416c47-937d-47c9-8c1d-61b27007baf5",
       "session_start_time": "2025-03-05T09:55:26.7404491Z",
       "spark_pool": null,
       "state": "finished",
       "statement_id": 3,
       "statement_ids": [
        3
       ]
      },
      "text/plain": [
       "StatementMeta(, 6c416c47-937d-47c9-8c1d-61b27007baf5, 3, Finished, Available, Finished)"
      ]
     },
     "metadata": {},
     "output_type": "display_data"
    }
   ],
   "source": [
    "from pyspark.sql import SparkSession\n",
    "import json\n",
    "import pandas as pd\n",
    "import requests\n",
    "import concurrent.futures\n",
    "import time\n",
    "from pyspark.sql.functions import col\n",
    "import msal\n"
   ]
  },
  {
   "cell_type": "code",
   "execution_count": null,
   "id": "528c0caa-e812-40ea-92f9-4cdf8cb39fbb",
   "metadata": {
    "microsoft": {
     "language": "python",
     "language_group": "synapse_pyspark"
    }
   },
   "outputs": [
    {
     "data": {
      "application/vnd.livy.statement-meta+json": {
       "execution_finish_time": "2025-03-05T09:58:13.1973651Z",
       "execution_start_time": "2025-03-05T09:58:12.7526197Z",
       "livy_statement_state": "available",
       "normalized_state": "finished",
       "parent_msg_id": "48d294d9-c7fc-43ee-bfa1-a5f36d54d6f9",
       "queued_time": "2025-03-05T09:55:27.0061133Z",
       "session_id": "6c416c47-937d-47c9-8c1d-61b27007baf5",
       "session_start_time": null,
       "spark_pool": null,
       "state": "finished",
       "statement_id": 4,
       "statement_ids": [
        4
       ]
      },
      "text/plain": [
       "StatementMeta(, 6c416c47-937d-47c9-8c1d-61b27007baf5, 4, Finished, Available, Finished)"
      ]
     },
     "metadata": {},
     "output_type": "display_data"
    }
   ],
   "source": [
    "\n",
    "# Azure AD Credentials (Replace with your values)\n",
    "TENANT_ID = \"\"\n",
    "CLIENT_ID = \"\"\n",
    "CLIENT_SECRET = \"\"\n",
    "\n",
    "# Azure AD Authority & Scope\n",
    "# AUTHORITY = f\"https://login.microsoftonline.com/{TENANT_ID}\"\n",
    "# SCOPE = [\"https://api.fabric.microsoft.com/.default\"]  # Fabric API Scope\n",
    "# TOKEN_URL = f\"https://login.microsoftonline.com/{TENANT_ID}/oauth2/v2.0/token\"\n",
    "\n",
    "AUTHORITY = f\"https://login.microsoftonline.com/{TENANT_ID}\"\n",
    "SCOPE = [\"https://analysis.windows.net/powerbi/api/.default\"]  # Power BI Scpoe\n",
    "TOKEN_URL = f\"https://login.microsoftonline.com/{TENANT_ID}/oauth2/token\"\n",
    "\n",
    "\n",
    "\n",
    "def get_access_token():\n",
    "    \"\"\"Fetch an access token from Azure AD for Microsoft Fabric API.\"\"\"\n",
    "    app = msal.ConfidentialClientApplication(CLIENT_ID, authority=AUTHORITY, client_credential=CLIENT_SECRET)\n",
    "    token_response = app.acquire_token_for_client(scopes=SCOPE)\n",
    "\n",
    "    if \"access_token\" in token_response:\n",
    "        return token_response[\"access_token\"]\n",
    "    else:\n",
    "        raise Exception(f\"Failed to get token: {token_response}\")\n",
    "\n",
    "\n"
   ]
  },
  {
   "cell_type": "code",
   "execution_count": 3,
   "id": "023f3d1c-c06c-475d-952d-c9fa0e388a4b",
   "metadata": {
    "microsoft": {
     "language": "python",
     "language_group": "synapse_pyspark"
    }
   },
   "outputs": [
    {
     "data": {
      "application/vnd.livy.statement-meta+json": {
       "execution_finish_time": "2025-03-05T09:58:13.9576441Z",
       "execution_start_time": "2025-03-05T09:58:13.6256893Z",
       "livy_statement_state": "available",
       "normalized_state": "finished",
       "parent_msg_id": "722abbe7-3033-4013-b1fc-520720ea7522",
       "queued_time": "2025-03-05T09:55:27.2287429Z",
       "session_id": "6c416c47-937d-47c9-8c1d-61b27007baf5",
       "session_start_time": null,
       "spark_pool": null,
       "state": "finished",
       "statement_id": 5,
       "statement_ids": [
        5
       ]
      },
      "text/plain": [
       "StatementMeta(, 6c416c47-937d-47c9-8c1d-61b27007baf5, 5, Finished, Available, Finished)"
      ]
     },
     "metadata": {},
     "output_type": "display_data"
    }
   ],
   "source": [
    "#List of all URLs\n",
    "#List of Capacities URL\n",
    "CAPACITIES_API_URL = \"https://api.powerbi.com/v1.0/myorg/admin/capacities\"\n",
    "\n",
    "#List of Workspaces\n",
    "WORKSPACES_API_URL = \"https://api.fabric.microsoft.com/v1/admin/workspaces\""
   ]
  },
  {
   "cell_type": "code",
   "execution_count": 4,
   "id": "e77d378c-b660-4d87-b22b-442fd55d799c",
   "metadata": {
    "microsoft": {
     "language": "python",
     "language_group": "synapse_pyspark"
    }
   },
   "outputs": [
    {
     "data": {
      "application/vnd.livy.statement-meta+json": {
       "execution_finish_time": "2025-03-05T09:58:54.8622605Z",
       "execution_start_time": "2025-03-05T09:58:14.3609516Z",
       "livy_statement_state": "available",
       "normalized_state": "finished",
       "parent_msg_id": "b722360b-a694-4cd7-870a-f82d69375223",
       "queued_time": "2025-03-05T09:55:27.462502Z",
       "session_id": "6c416c47-937d-47c9-8c1d-61b27007baf5",
       "session_start_time": null,
       "spark_pool": null,
       "state": "finished",
       "statement_id": 6,
       "statement_ids": [
        6
       ]
      },
      "text/plain": [
       "StatementMeta(, 6c416c47-937d-47c9-8c1d-61b27007baf5, 6, Finished, Available, Finished)"
      ]
     },
     "metadata": {},
     "output_type": "display_data"
    }
   ],
   "source": [
    "#List of Capacities\n",
    "def get_fabric_capacities():\n",
    "    token = get_access_token()\n",
    "    headers = {\"Authorization\": f\"Bearer {token}\"}\n",
    "    \n",
    "    response = requests.get(CAPACITIES_API_URL, headers=headers)\n",
    "    \n",
    "    if response.status_code == 200:\n",
    "        return response.json()\n",
    "    else:\n",
    "        raise Exception(f\"Error {response.status_code}: {response.text}\")\n",
    "\n",
    "# Run the API request and print the result\n",
    "capacities = get_fabric_capacities()\n",
    "capacities_df = pd.DataFrame(capacities[\"value\"])\n",
    "spark_capacities_df = spark.createDataFrame(capacities_df)\n",
    "spark_capacities_df = spark_capacities_df.drop(\"users\")\n",
    "spark_capacities_df.write.mode(\"overwrite\").format(\"delta\").saveAsTable(\"fabric_capacities\")"
   ]
  },
  {
   "cell_type": "code",
   "execution_count": 5,
   "id": "10f76339-b48c-49fb-9181-4f97dd3ec96f",
   "metadata": {
    "microsoft": {
     "language": "python",
     "language_group": "synapse_pyspark"
    }
   },
   "outputs": [
    {
     "data": {
      "application/vnd.livy.statement-meta+json": {
       "execution_finish_time": "2025-03-05T09:59:04.2175971Z",
       "execution_start_time": "2025-03-05T09:58:55.3609668Z",
       "livy_statement_state": "available",
       "normalized_state": "finished",
       "parent_msg_id": "ae422269-a849-4a1f-b86f-a6aae7bf38a7",
       "queued_time": "2025-03-05T09:55:27.7697758Z",
       "session_id": "6c416c47-937d-47c9-8c1d-61b27007baf5",
       "session_start_time": null,
       "spark_pool": null,
       "state": "finished",
       "statement_id": 7,
       "statement_ids": [
        7
       ]
      },
      "text/plain": [
       "StatementMeta(, 6c416c47-937d-47c9-8c1d-61b27007baf5, 7, Finished, Available, Finished)"
      ]
     },
     "metadata": {},
     "output_type": "display_data"
    }
   ],
   "source": [
    "#List of Workspaces\n",
    "def get_workspaces():\n",
    "    token = get_access_token()\n",
    "    headers = {\"Authorization\": f\"Bearer {token}\"}\n",
    "    \n",
    "    response = requests.get(WORKSPACES_API_URL, headers=headers)\n",
    "    \n",
    "    if response.status_code == 200:\n",
    "        return response.json()\n",
    "    else:\n",
    "        raise Exception(f\"Error {response.status_code}: {response.text}\")\n",
    "\n",
    "# Run the API request and print the result\n",
    "workpsaces = get_workspaces()\n",
    "workpsaces_df = spark.createDataFrame(workpsaces[\"workspaces\"])\n",
    "workpsaces_df.write.mode(\"overwrite\").format(\"delta\").saveAsTable(\"fabric_workpsaces\")"
   ]
  },
  {
   "cell_type": "code",
   "execution_count": 6,
   "id": "1df37dd4-b23d-4db9-858b-b7a745a0b610",
   "metadata": {
    "microsoft": {
     "language": "python",
     "language_group": "synapse_pyspark"
    }
   },
   "outputs": [
    {
     "data": {
      "application/vnd.livy.statement-meta+json": {
       "execution_finish_time": "2025-03-05T09:59:05.6210735Z",
       "execution_start_time": "2025-03-05T09:59:04.6313126Z",
       "livy_statement_state": "available",
       "normalized_state": "finished",
       "parent_msg_id": "d554c948-e872-4383-b3db-ee9ed67616aa",
       "queued_time": "2025-03-05T09:55:27.9767566Z",
       "session_id": "6c416c47-937d-47c9-8c1d-61b27007baf5",
       "session_start_time": null,
       "spark_pool": null,
       "state": "finished",
       "statement_id": 8,
       "statement_ids": [
        8
       ]
      },
      "text/plain": [
       "StatementMeta(, 6c416c47-937d-47c9-8c1d-61b27007baf5, 8, Finished, Available, Finished)"
      ]
     },
     "metadata": {},
     "output_type": "display_data"
    }
   ],
   "source": [
    "WorkspaceIDs = workpsaces_df.toPandas()[\"id\"].tolist()"
   ]
  },
  {
   "cell_type": "code",
   "execution_count": 7,
   "id": "6bb30dc4-5add-4704-b84f-7465405785a7",
   "metadata": {
    "jupyter": {
     "outputs_hidden": false
    },
    "microsoft": {
     "language": "python",
     "language_group": "synapse_pyspark"
    }
   },
   "outputs": [
    {
     "data": {
      "application/vnd.livy.statement-meta+json": {
       "execution_finish_time": "2025-03-05T09:59:21.5007734Z",
       "execution_start_time": "2025-03-05T09:59:06.0209142Z",
       "livy_statement_state": "available",
       "normalized_state": "finished",
       "parent_msg_id": "39032600-6bc1-4b15-800a-86911c2581e7",
       "queued_time": "2025-03-05T09:55:28.264977Z",
       "session_id": "6c416c47-937d-47c9-8c1d-61b27007baf5",
       "session_start_time": null,
       "spark_pool": null,
       "state": "finished",
       "statement_id": 9,
       "statement_ids": [
        9
       ]
      },
      "text/plain": [
       "StatementMeta(, 6c416c47-937d-47c9-8c1d-61b27007baf5, 9, Finished, Available, Finished)"
      ]
     },
     "metadata": {},
     "output_type": "display_data"
    },
    {
     "name": "stderr",
     "output_type": "stream",
     "text": [
      "/opt/spark/python/lib/pyspark.zip/pyspark/sql/pandas/conversion.py:428: UserWarning: createDataFrame attempted Arrow optimization because 'spark.sql.execution.arrow.pyspark.enabled' is set to true; however, failed by the reason below:\n",
      "  A field of type StructType expects a pandas.DataFrame, but got: <class 'pandas.core.series.Series'>\n",
      "Attempting non-optimization as 'spark.sql.execution.arrow.pyspark.fallback.enabled' is set to true.\n",
      "  warn(msg)\n"
     ]
    }
   ],
   "source": [
    "#List of datasets in  a Workspace\n",
    "def get_datasets():\n",
    "    token = get_access_token()\n",
    "    headers = {\"Authorization\": f\"Bearer {token}\"}\n",
    "    \n",
    "    response = requests.get(\"https://api.powerbi.com/v1.0/myorg/admin/datasets\", headers=headers)\n",
    "    \n",
    "    if response.status_code == 200:\n",
    "        return response.json()\n",
    "    else:\n",
    "        raise Exception(f\"Error {response.status_code}: {response.text}\")\n",
    "\n",
    "# Run the API request and print the result\n",
    "# for workspaceid in WorkspaceIDs:\n",
    "datasets = get_datasets()\n",
    "datasets_df = pd.DataFrame(datasets[\"value\"])\n",
    "datasets_df.drop(columns=[\"users\",\"upstreamDatasets\"], inplace=True)\n",
    "spark_datasets_df = spark.createDataFrame(datasets_df)\n",
    "spark_datasets_df.write.mode(\"overwrite\").format(\"delta\").saveAsTable(\"datasets\")"
   ]
  },
  {
   "cell_type": "code",
   "execution_count": 8,
   "id": "c40a0f45-2737-46a1-94e2-8f965b47aa9c",
   "metadata": {
    "microsoft": {
     "language": "python",
     "language_group": "synapse_pyspark"
    }
   },
   "outputs": [
    {
     "data": {
      "application/vnd.livy.statement-meta+json": {
       "execution_finish_time": "2025-03-05T09:59:22.8545503Z",
       "execution_start_time": "2025-03-05T09:59:21.867322Z",
       "livy_statement_state": "available",
       "normalized_state": "finished",
       "parent_msg_id": "054c5a9e-a294-40ae-98dd-34185c3411ac",
       "queued_time": "2025-03-05T09:55:28.5007337Z",
       "session_id": "6c416c47-937d-47c9-8c1d-61b27007baf5",
       "session_start_time": null,
       "spark_pool": null,
       "state": "finished",
       "statement_id": 10,
       "statement_ids": [
        10
       ]
      },
      "text/plain": [
       "StatementMeta(, 6c416c47-937d-47c9-8c1d-61b27007baf5, 10, Finished, Available, Finished)"
      ]
     },
     "metadata": {},
     "output_type": "display_data"
    }
   ],
   "source": [
    "DatasetIDs = spark_datasets_df.toPandas()[\"id\"].tolist()"
   ]
  },
  {
   "cell_type": "code",
   "execution_count": 9,
   "id": "f3e2f673-47c4-4a3f-854a-76e8cac90877",
   "metadata": {
    "microsoft": {
     "language": "python",
     "language_group": "synapse_pyspark"
    }
   },
   "outputs": [
    {
     "data": {
      "application/vnd.livy.statement-meta+json": {
       "execution_finish_time": "2025-03-05T09:59:23.9107606Z",
       "execution_start_time": "2025-03-05T09:59:23.4120736Z",
       "livy_statement_state": "available",
       "normalized_state": "finished",
       "parent_msg_id": "102ab623-86a7-40a6-86f0-3a65d2f59b44",
       "queued_time": "2025-03-05T09:55:29.3734785Z",
       "session_id": "6c416c47-937d-47c9-8c1d-61b27007baf5",
       "session_start_time": null,
       "spark_pool": null,
       "state": "finished",
       "statement_id": 11,
       "statement_ids": [
        11
       ]
      },
      "text/plain": [
       "StatementMeta(, 6c416c47-937d-47c9-8c1d-61b27007baf5, 11, Finished, Available, Finished)"
      ]
     },
     "metadata": {},
     "output_type": "display_data"
    }
   ],
   "source": [
    "#Custom Workspace Filtering\n",
    "workspace_ids = [\n",
    "    \"8ba77fd7-a1ef-4837-8f15-915ba50d0f4a\",\n",
    "    \"02fd1e90-3ba6-48b5-9f9c-15922ad12258\",\n",
    "    \"0453cc18-6202-4445-b41a-4036e6719b08\",\n",
    "    \"092e35cf-d04f-4ebb-8d9e-2cc12e736e4e\",\n",
    "    \"0a8537f9-f679-4c65-b166-2db0c4fdcd8b\",\n",
    "    \"0b0797d1-b0ef-42d7-a1bb-9b97703df039\",\n",
    "    \"0c080ff6-45f2-491b-8d07-886762bb187c\",\n",
    "    \"0c7b90de-5814-48a6-a494-9036b163c122\",\n",
    "    \"0e396047-c341-40df-a788-73fc8e80cf45\",\n",
    "    \"11272a63-7dba-4df8-8d67-3db6f36bc1cb\",\n",
    "    \"1380020f-75a6-4e54-98a7-0e212c6f8bc1\",\n",
    "    \"17ad07cb-415a-4bd8-8a62-b99413535930\",\n",
    "    \"1d5f520f-b031-4661-95fe-0f54fdd179ee\",\n",
    "    \"217cc489-d70a-42dc-acd2-e212d66e7b40\",\n",
    "    \"2229266c-6132-463a-8232-fdcb591f2be7\",\n",
    "    \"228db8e8-6203-4ba8-b406-7b1da29c34c1\",\n",
    "    \"245909ee-2edf-459e-a771-bd1e4e83d2a0\",\n",
    "    \"249abea1-ac3b-47e8-8106-9e7953840573\",\n",
    "    \"28a728f4-1333-4958-991a-2ffc1b576a39\",\n",
    "    \"2c9573cd-be00-4436-80ef-77701fbe4792\",\n",
    "    \"35060111-ead1-48c7-90ad-6470f10fc59e\",\n",
    "    \"3ba00f7a-79ef-430f-b005-5abdb305587a\",\n",
    "    \"3cff07f4-9d8d-46fa-9ec5-d97c5c530ccb\",\n",
    "    \"4047ca4c-c14c-4a9f-98c9-f8a23f199156\",\n",
    "    \"45883d13-9597-49e3-9565-8fdf3af7a2ad\",\n",
    "    \"4a190a28-7188-4726-875d-f7aad0b21e64\",\n",
    "    \"4bc02dfe-903e-445c-b724-3b974bcd0658\",\n",
    "    \"4d84457b-1559-4326-b099-a74e85a50bc5\",\n",
    "    \"577aefa8-dd74-403d-ad5b-95800a35ddbf\",\n",
    "    \"59c26bbc-0ed0-4b1f-ab1a-4e3f22c31fba\",\n",
    "    \"5b855151-6d50-4472-954d-038388191b67\",\n",
    "    \"5d773d9e-6b75-4e29-bd30-505bfa21f940\",\n",
    "    \"5f25fdcb-083e-4da3-80b5-fa6f1c35d537\",\n",
    "    \"6952b9a8-6540-417d-ab91-fbb975b9fca6\",\n",
    "    \"696ad86b-1d99-4114-b703-493b709b062f\",\n",
    "    \"6c1bc232-514f-4419-a60e-6f84d7b98b34\",\n",
    "    \"702cdb35-1a7d-48ec-b829-cbc644497067\",\n",
    "    \"70f7f773-cbcf-4184-b9cf-5341694a95b0\",\n",
    "    \"7520754f-4eb6-4c5d-831c-d7c84aa9355f\",\n",
    "    \"762cdec9-ca96-4a30-a5c3-c94a3a4a8e4a\",\n",
    "    \"7707be4b-7753-432e-b7f6-c94aaccc7e97\",\n",
    "    \"778c431b-4111-4580-a46f-8fc7871dc3bc\",\n",
    "    \"77bd7035-0b65-4a7b-85bb-10d833e66e6f\",\n",
    "    \"7fbb6ab7-dbe4-4ebb-a2da-52537d629251\",\n",
    "    \"81cef3f8-802a-4afb-85db-e60385fd685a\",\n",
    "    \"831affc2-2227-42e3-ac1d-a7a2dd1e9756\",\n",
    "    \"83ec31a1-2ca3-46fe-a5f8-2bcc8e70f8cd\",\n",
    "    \"86125406-c2ed-4d96-b0a6-f0c209165fb0\",\n",
    "    \"86805504-a5dd-46d6-ade7-42bc35d2b4f2\",\n",
    "    \"8a14eea3-d016-4012-aad4-bd691f10219b\",\n",
    "    \"8a542b19-d8fd-44da-8738-9ac2262d6ee1\",\n",
    "    \"8b1d9eb6-0b5a-440c-9eb7-b0139459edf6\",\n",
    "    \"8ba77fd7-a1ef-4837-8f15-915ba50d0f4a\",\n",
    "    \"933590a7-3e78-42d0-aed7-a630866b8ee8\",\n",
    "    \"a912e8a5-7138-4452-88a1-5c7df2c99a5a\",\n",
    "    \"ac5b2892-2977-4250-8d3e-34485277662e\",\n",
    "    \"ac8a466e-cbd2-4c73-9b6e-3b18cded7ee8\",\n",
    "    \"b548baa6-d999-490a-9b64-b5b71d369f72\",\n",
    "    \"b84686b4-27a1-469e-8763-078e00cb7e7a\",\n",
    "    \"b87ed813-90b4-4e47-8db9-5f4244e3df32\",\n",
    "    \"bbcb70ff-d86a-4680-9edc-cbbfa0e63129\",\n",
    "    \"bc4e98a1-e23e-4608-acee-d7e2eedc0272\",\n",
    "    \"c01086da-46e1-483e-b7d3-555d3ca1aa13\",\n",
    "    \"c2cce67a-a8ec-46c5-8559-ac563f46bad1\",\n",
    "    \"c59c58ad-674c-49be-9eba-912b80463d1b\",\n",
    "    \"c936d43b-ab4c-47a4-b331-41fce01ea0e2\",\n",
    "    \"cdb45b81-d656-4b26-a53e-fb0f5fc8d6cb\",\n",
    "    \"d000ffaf-5870-46bf-826e-e451614916ea\",\n",
    "    \"d02d8e4f-94c7-4f47-bc21-f88f884504e6\",\n",
    "    \"d2b2d8d9-dff4-461a-b027-8b2a019c849c\",\n",
    "    \"d83f57eb-7845-403d-881e-714f47fd0ebf\",\n",
    "    \"da203dd1-23ea-4784-9267-e107cd928bf4\",\n",
    "    \"daf9cd9f-ccb7-4688-8681-31beb5b2dc62\",\n",
    "    \"e153b4e2-9aaf-4cc3-bcf1-809e34bf90d6\",\n",
    "    \"ea855082-1d5a-4859-affb-57a2bcc016f1\",\n",
    "    \"eec8f192-897a-4898-a243-1602f2404fb8\",\n",
    "    \"f27da5be-cc44-4811-ab08-3ded7156605a\",\n",
    "    \"fa8be9a8-1e0f-4e31-a713-d92ec93ace81\",\n",
    "    \"faa61b04-f0c0-4e77-b206-beaf9d93208e\",\n",
    "    \"fab40697-810c-49a2-b6e6-fb92b7cffab1\",\n",
    "    \"fd2fc524-9196-41e8-9ecb-2f4e8e8ded50\"\n",
    "]\n",
    "\n",
    "\n",
    "filtered_df = datasets_df[datasets_df[\"workspaceId\"].isin(workspace_ids)]\n"
   ]
  },
  {
   "cell_type": "code",
   "execution_count": null,
   "id": "e69b89c5-af99-4adb-bc7b-d4d93e7cc1fd",
   "metadata": {
    "microsoft": {
     "language": "python",
     "language_group": "synapse_pyspark"
    }
   },
   "outputs": [
    {
     "data": {
      "application/vnd.livy.statement-meta+json": {
       "execution_finish_time": "2025-03-05T10:51:26.9766535Z",
       "execution_start_time": "2025-03-05T10:51:26.2684751Z",
       "livy_statement_state": "available",
       "normalized_state": "finished",
       "parent_msg_id": "1b7793bc-b526-4ebd-b29c-da91478eb8ec",
       "queued_time": "2025-03-05T10:51:25.8165693Z",
       "session_id": "6c416c47-937d-47c9-8c1d-61b27007baf5",
       "session_start_time": null,
       "spark_pool": null,
       "state": "finished",
       "statement_id": 29,
       "statement_ids": [
        29
       ]
      },
      "text/plain": [
       "StatementMeta(, 6c416c47-937d-47c9-8c1d-61b27007baf5, 29, Finished, Available, Finished)"
      ]
     },
     "metadata": {},
     "output_type": "display_data"
    },
    {
     "data": {
      "text/plain": [
       "1165"
      ]
     },
     "execution_count": 113,
     "metadata": {},
     "output_type": "execute_result"
    }
   ],
   "source": [
    "len(filtered_df)"
   ]
  },
  {
   "cell_type": "code",
   "execution_count": 11,
   "id": "53726890-dd62-47b4-8560-3cb91b2b7797",
   "metadata": {
    "microsoft": {
     "language": "python",
     "language_group": "synapse_pyspark"
    }
   },
   "outputs": [
    {
     "data": {
      "application/vnd.livy.statement-meta+json": {
       "execution_finish_time": "2025-03-05T09:59:25.4692104Z",
       "execution_start_time": "2025-03-05T09:59:25.133235Z",
       "livy_statement_state": "available",
       "normalized_state": "finished",
       "parent_msg_id": "fd59f1ce-4975-4c62-9f94-4bb3518d3dc4",
       "queued_time": "2025-03-05T09:55:31.132639Z",
       "session_id": "6c416c47-937d-47c9-8c1d-61b27007baf5",
       "session_start_time": null,
       "spark_pool": null,
       "state": "finished",
       "statement_id": 13,
       "statement_ids": [
        13
       ]
      },
      "text/plain": [
       "StatementMeta(, 6c416c47-937d-47c9-8c1d-61b27007baf5, 13, Finished, Available, Finished)"
      ]
     },
     "metadata": {},
     "output_type": "display_data"
    }
   ],
   "source": [
    "#get_dataset_refresh_histroy\n",
    "def get_dataset_refresh_histroy(workspaceId, datasetId):\n",
    "    \"\"\"Fetch dataset refresh history from Power BI API.\"\"\"\n",
    "    token = get_access_token()\n",
    "    headers = {\"Authorization\": f\"Bearer {token}\"}\n",
    "\n",
    "    url = f\"https://api.powerbi.com/v1.0/myorg/groups/{workspaceId}/datasets/{datasetId}/refreshes\"\n",
    "    response = requests.get(url, headers=headers)\n",
    "\n",
    "    if response.status_code != 200:\n",
    "        return pd.DataFrame([{\"datasetId\": datasetId} | {key: None for key in [\n",
    "            \"requestId\", \"id\", \"refreshType\", \"status\", \"refreshAttempts\",\n",
    "            \"startTime\", \"endTime\", \"DataStartTime\", \"DataEndTime\", \n",
    "            \"QueryStartTime\", \"QueryEndTime\"]}])\n",
    "\n",
    "    res = response.json()\n",
    "    if not res.get(\"value\"):  # If \"value\" is empty or missing, return default None values\n",
    "        return pd.DataFrame([{\"datasetId\": datasetId} | {key: None for key in [\n",
    "            \"requestId\", \"id\", \"refreshType\", \"status\", \"refreshAttempts\",\n",
    "            \"startTime\", \"endTime\", \"DataStartTime\", \"DataEndTime\", \n",
    "            \"QueryStartTime\", \"QueryEndTime\"]}])\n",
    "\n",
    "    records = [{\n",
    "        \"datasetId\": datasetId,\n",
    "        \"requestId\": entry.get(\"requestId\", None),\n",
    "        \"id\": entry.get(\"id\", None),\n",
    "        \"refreshType\": entry.get(\"refreshType\", None),\n",
    "        \"status\": entry.get(\"status\", None),\n",
    "        \"refreshAttempts\": len(entry.get(\"refreshAttempts\", [])),\n",
    "        \"startTime\": entry.get(\"startTime\", None),\n",
    "        \"endTime\": entry.get(\"endTime\", None),\n",
    "        \"DataStartTime\": next((att.get(\"startTime\") for att in entry.get(\"refreshAttempts\", []) if att.get(\"type\") == \"Data\"), None),\n",
    "        \"DataEndTime\": next((att.get(\"endTime\") for att in entry.get(\"refreshAttempts\", []) if att.get(\"type\") == \"Data\"), None),\n",
    "        \"QueryStartTime\": next((att.get(\"startTime\") for att in entry.get(\"refreshAttempts\", []) if att.get(\"type\") == \"Query\"), None),\n",
    "        \"QueryEndTime\": next((att.get(\"endTime\") for att in entry.get(\"refreshAttempts\", []) if att.get(\"type\") == \"Query\"), None)\n",
    "    } for entry in res[\"value\"]]\n",
    "\n",
    "    return pd.DataFrame(records)\n"
   ]
  },
  {
   "cell_type": "code",
   "execution_count": 12,
   "id": "d6ed3569-dbcb-4435-84da-48594545da3b",
   "metadata": {
    "microsoft": {
     "language": "python",
     "language_group": "synapse_pyspark"
    }
   },
   "outputs": [
    {
     "data": {
      "application/vnd.livy.statement-meta+json": {
       "execution_finish_time": "2025-03-05T10:07:56.4147883Z",
       "execution_start_time": "2025-03-05T09:59:25.994615Z",
       "livy_statement_state": "available",
       "normalized_state": "finished",
       "parent_msg_id": "391f0569-89d1-4534-88fd-3394e61f00ec",
       "queued_time": "2025-03-05T09:55:33.1377015Z",
       "session_id": "6c416c47-937d-47c9-8c1d-61b27007baf5",
       "session_start_time": null,
       "spark_pool": null,
       "state": "finished",
       "statement_id": 14,
       "statement_ids": [
        14
       ]
      },
      "text/plain": [
       "StatementMeta(, 6c416c47-937d-47c9-8c1d-61b27007baf5, 14, Finished, Available, Finished)"
      ]
     },
     "metadata": {},
     "output_type": "display_data"
    }
   ],
   "source": [
    "all_temp_dfs = []  # List to store non-empty DataFrames\n",
    "\n",
    "for _, row in filtered_df.iterrows():\n",
    "    temp_df = get_dataset_refresh_histroy(row[\"workspaceId\"], row[\"id\"])\n",
    "    \n",
    "    if not temp_df.empty:  # Append only if temp_df is not empty\n",
    "        all_temp_dfs.append(temp_df)\n",
    "    else:\n",
    "        print(\"No data for:\", row)\n"
   ]
  },
  {
   "cell_type": "code",
   "execution_count": 25,
   "id": "98900c4b-444a-4ac4-8981-fe53e5013783",
   "metadata": {
    "microsoft": {
     "language": "python",
     "language_group": "synapse_pyspark"
    }
   },
   "outputs": [
    {
     "data": {
      "application/vnd.livy.statement-meta+json": {
       "execution_finish_time": "2025-03-05T10:33:42.4899796Z",
       "execution_start_time": "2025-03-05T10:33:18.1825143Z",
       "livy_statement_state": "available",
       "normalized_state": "finished",
       "parent_msg_id": "d8e3b6f4-4c40-412d-a1e3-0bca423fca48",
       "queued_time": "2025-03-05T10:33:17.7425838Z",
       "session_id": "6c416c47-937d-47c9-8c1d-61b27007baf5",
       "session_start_time": null,
       "spark_pool": null,
       "state": "finished",
       "statement_id": 27,
       "statement_ids": [
        27
       ]
      },
      "text/plain": [
       "StatementMeta(, 6c416c47-937d-47c9-8c1d-61b27007baf5, 27, Finished, Available, Finished)"
      ]
     },
     "metadata": {},
     "output_type": "display_data"
    },
    {
     "name": "stdout",
     "output_type": "stream",
     "text": [
      "Appended 830 new records to datasets_refresh_history.\n"
     ]
    }
   ],
   "source": [
    "datasets_refresh_history_df = pd.concat(all_temp_dfs, ignore_index=True)\n",
    "#Creating Spark DataFrame\n",
    "spark_datasets_refresh_history_df = spark.createDataFrame(datasets_refresh_history_df)\n",
    "\n",
    "# Read existing requestIds from datasets_refresh_history table\n",
    "#existing_df = spark.read.format(\"delta\").load(\"abfss://d3120490-76ae-4ef4-a440-2bd65732ccdc@onelake.dfs.fabric.microsoft.com/fecab367-5d3a-41c1-8037-7801192932ba/Tables/datasets_refresh_history\").select(\"requestId\")\n",
    "\n",
    "existing_df = (\n",
    "    spark.read.format(\"delta\")\n",
    "    .load(\"abfss://d3120490-76ae-4ef4-a440-2bd65732ccdc@onelake.dfs.fabric.microsoft.com/fecab367-5d3a-41c1-8037-7801192932ba/Tables/datasets_refresh_history\")\n",
    "    .select(\"requestId\")\n",
    "    .dropna(subset=[\"requestId\"])  # Remove null requestId\n",
    "    .dropDuplicates([\"requestId\"])  # Remove duplicates\n",
    ")\n",
    "\n",
    "new_spark_datasets_refresh_history_df = spark_datasets_refresh_history_df.join(existing_df, \"requestId\", \"left_anti\")\n",
    "\n",
    "if new_spark_datasets_refresh_history_df.count() > 0:\n",
    "    new_spark_datasets_refresh_history_df.write.format(\"delta\").mode(\"append\").saveAsTable(\"datasets_refresh_history\")\n",
    "    print(f\"Appended {new_spark_datasets_refresh_history_df.count()} new records to datasets_refresh_history.\")\n",
    "else:\n",
    "    print(\"No new records found. Skipping append.\")"
   ]
  },
  {
   "cell_type": "code",
   "execution_count": 26,
   "id": "c582a064-3c98-47ac-b6d8-085a3dcf4f4b",
   "metadata": {
    "microsoft": {
     "language": "python",
     "language_group": "synapse_pyspark"
    }
   },
   "outputs": [
    {
     "data": {
      "application/vnd.livy.statement-meta+json": {
       "execution_finish_time": "2025-03-05T10:34:16.0662788Z",
       "execution_start_time": "2025-03-05T10:34:13.2414255Z",
       "livy_statement_state": "available",
       "normalized_state": "finished",
       "parent_msg_id": "c27494c6-9390-428b-926a-fdc8dc29fe9f",
       "queued_time": "2025-03-05T10:34:12.7798545Z",
       "session_id": "6c416c47-937d-47c9-8c1d-61b27007baf5",
       "session_start_time": null,
       "spark_pool": null,
       "state": "finished",
       "statement_id": 28,
       "statement_ids": [
        28
       ]
      },
      "text/plain": [
       "StatementMeta(, 6c416c47-937d-47c9-8c1d-61b27007baf5, 28, Finished, Available, Finished)"
      ]
     },
     "metadata": {},
     "output_type": "display_data"
    },
    {
     "name": "stdout",
     "output_type": "stream",
     "text": [
      "Duplicate rows removed, and table updated.\n"
     ]
    }
   ],
   "source": [
    "\n",
    "# Load the Delta table\n",
    "df = spark.read.format(\"delta\").load(\"abfss://d3120490-76ae-4ef4-a440-2bd65732ccdc@onelake.dfs.fabric.microsoft.com/fecab367-5d3a-41c1-8037-7801192932ba/Tables/datasets_refresh_history\")\n",
    "\n",
    "# Remove duplicate rows based on all columns\n",
    "df_deduplicated = df.dropDuplicates()\n",
    "\n",
    "# Overwrite the table with deduplicated data\n",
    "df_deduplicated.write.format(\"delta\").mode(\"overwrite\").save(\"abfss://d3120490-76ae-4ef4-a440-2bd65732ccdc@onelake.dfs.fabric.microsoft.com/fecab367-5d3a-41c1-8037-7801192932ba/Tables/datasets_refresh_history\")\n",
    "\n",
    "print(\"Duplicate rows removed, and table updated.\")\n"
   ]
  }
 ],
 "metadata": {
  "dependencies": {
   "lakehouse": {
    "default_lakehouse": "fecab367-5d3a-41c1-8037-7801192932ba",
    "default_lakehouse_name": "Fabric",
    "default_lakehouse_workspace_id": "d3120490-76ae-4ef4-a440-2bd65732ccdc",
    "known_lakehouses": [
     {
      "id": "fecab367-5d3a-41c1-8037-7801192932ba"
     }
    ]
   }
  },
  "kernel_info": {
   "name": "synapse_pyspark"
  },
  "kernelspec": {
   "display_name": "Synapse PySpark",
   "language": "Python",
   "name": "synapse_pyspark"
  },
  "language_info": {
   "name": "python"
  },
  "microsoft": {
   "language": "python",
   "language_group": "synapse_pyspark",
   "ms_spell_check": {
    "ms_spell_check_language": "en"
   }
  },
  "nteract": {
   "version": "nteract-front-end@1.0.0"
  },
  "spark_compute": {
   "compute_id": "/trident/default",
   "session_options": {
    "conf": {
     "spark.synapse.nbs.session.timeout": "1200000"
    }
   }
  },
  "synapse_widget": {
   "state": {},
   "version": "0.1"
  }
 },
 "nbformat": 4,
 "nbformat_minor": 5
}
