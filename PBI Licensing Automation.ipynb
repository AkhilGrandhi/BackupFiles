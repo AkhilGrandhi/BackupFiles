{
 "cells": [
  {
   "cell_type": "code",
   "execution_count": null,
   "id": "e396db60-7169-4377-be24-2d56008b558f",
   "metadata": {
    "jupyter": {
     "outputs_hidden": true
    },
    "microsoft": {
     "language": "python",
     "language_group": "synapse_pyspark"
    }
   },
   "outputs": [
    {
     "data": {
      "application/vnd.livy.statement-meta+json": {
       "execution_finish_time": "2025-02-21T05:58:02.5177356Z",
       "execution_start_time": "2025-02-21T05:58:01.5404508Z",
       "livy_statement_state": "available",
       "normalized_state": "finished",
       "parent_msg_id": "4151c678-b05b-4724-84f9-80c8743a4164",
       "queued_time": "2025-02-21T05:58:01.3103432Z",
       "session_id": "b5c0144e-0fb1-428d-a0bb-9d5dff68f8e8",
       "session_start_time": null,
       "spark_pool": null,
       "state": "finished",
       "statement_id": 6,
       "statement_ids": [
        6
       ]
      },
      "text/plain": [
       "StatementMeta(, b5c0144e-0fb1-428d-a0bb-9d5dff68f8e8, 6, Finished, Available, Finished)"
      ]
     },
     "metadata": {},
     "output_type": "display_data"
    },
    {
     "name": "stdout",
     "output_type": "stream",
     "text": [
      "🔹 Available SKUs in Your Organization:\n",
      "SKU ID: c5928f49-12ba-48f7-ada3-0d743a3601d5 | Product Name: VISIOCLIENT\n",
      "SKU ID: 1f2f344a-700d-42c9-9427-5cea1d5d7ba6 | Product Name: STREAM\n",
      "SKU ID: 2b317a4a-77a6-4188-9437-b68a77b4e2c6 | Product Name: INTUNE_A_D\n",
      "SKU ID: 488ba24a-39a9-4473-8ee5-19291e71b002 | Product Name: WIN10_VDA_E5\n",
      "SKU ID: b05e124f-c7cc-45a0-a6aa-8cf78c946968 | Product Name: EMSPREMIUM\n",
      "SKU ID: 1e615a51-59db-4807-9957-aa83c3657351 | Product Name: Dynamics_365_Customer_Service_Enterprise_viral_trial\n",
      "SKU ID: 3dd6cf57-d688-4eed-ba52-9e40b5468c3e | Product Name: THREAT_INTELLIGENCE\n",
      "SKU ID: 6ec92958-3cc1-49db-95bd-bc6b3798df71 | Product Name: Dynamics_365_Sales_Premium_Viral_Trial\n",
      "SKU ID: 4b74a65c-8b4a-4fc8-9f6b-5177ed11ddfa | Product Name: VIRTUAL_AGENT_USL\n",
      "SKU ID: 7a551360-26c4-4f61-84e6-ef715673e083 | Product Name: MICROSOFT_REMOTE_ASSIST\n",
      "SKU ID: 4a51bf65-409c-4a91-b845-1121b571cc9d | Product Name: FLOW_PER_USER\n",
      "SKU ID: 29fcd665-d8d1-4f34-8eed-3811e3fca7b3 | Product Name: Dynamics_365_Field_Service_Enterprise_viral_trial\n",
      "SKU ID: c9a0aa67-747d-4dbf-a9ae-844575460a44 | Product Name: Dynamics_365_Intelligent_Order_Management_vTrial\n",
      "SKU ID: f8a1db68-be16-40ed-86d5-cb42ce701560 | Product Name: POWER_BI_PRO\n",
      "SKU ID: 639dec6b-bb19-468b-871c-c5c441c4b0cb | Product Name: Microsoft_365_Copilot\n",
      "SKU ID: 8f0c5670-4e56-4892-b06d-91c085d7004f | Product Name: SPZA_IW\n",
      "SKU ID: b126b073-72db-4a9d-87a4-b17afe41d4ab | Product Name: MDATP_XPLAT\n",
      "SKU ID: b3a42176-0a8c-4c3f-ba4e-f2b37fe5be6b | Product Name: FLOW_BUSINESS_PROCESS\n",
      "SKU ID: 6470687e-a428-4b7a-bef2-8a291ad947c9 | Product Name: WINDOWS_STORE\n",
      "SKU ID: 6fd2c87f-b296-42f0-b197-1e91e994b900 | Product Name: ENTERPRISEPACK\n",
      "SKU ID: bf666882-9c9b-4b2e-aa2f-4789b0a52ba2 | Product Name: POWERAPPS_PER_APP_IW\n",
      "SKU ID: 99cc8282-2f74-4954-83b7-c6a9a1999067 | Product Name: M365_E5_SUITE_COMPONENTS\n",
      "SKU ID: 4b585984-651b-448a-9e53-3b10f069cf7f | Product Name: DESKLESSPACK\n",
      "SKU ID: d2dea78b-507c-4e56-b400-39447f4738f8 | Product Name: CDSAICAPACITY\n",
      "SKU ID: 3539d28c-6e35-4a30-b3a9-cd43d5d3e0e2 | Product Name: POWERAUTOMATE_UNATTENDED_RPA\n",
      "SKU ID: f30db892-07e9-47e9-837c-80727f46fd3d | Product Name: FLOW_FREE\n",
      "SKU ID: d3df9793-d4fe-4863-9120-71380a6cd5e4 | Product Name: Defender_for_IoT_Large_Site\n",
      "SKU ID: 84951599-62b7-46f3-9c9d-30551b2ad607 | Product Name: OFFICE365_MULTIGEO\n",
      "SKU ID: 75564b9c-51e8-431c-b8fe-d472d5a545c8 | Product Name: Power_Virtual_Agents\n",
      "SKU ID: 09015f9f-377f-4538-bbb5-f75ceb09358a | Product Name: PROJECTPREMIUM\n",
      "SKU ID: c52ea49f-fe5d-4e95-93ba-1de91d380f89 | Product Name: RIGHTSMANAGEMENT\n",
      "SKU ID: 8bd35ba0-764c-457f-aaee-bbfd01ff3108 | Product Name: Viva_Connection_Mini_Bundle\n",
      "SKU ID: cd2925a3-5076-4233-8931-638a8c94f773 | Product Name: SPE_E5_NOPSTNCONF\n",
      "SKU ID: 606b54a9-78d8-4298-ad8b-df6ef4481c80 | Product Name: CCIBOTS_PRIVPREV_VIRAL\n",
      "SKU ID: bc946dac-7877-4271-b2f7-99d2db13cd2c | Product Name: FORMS_PRO\n",
      "SKU ID: dcb1a3ae-b33f-4487-846a-a640262fadf4 | Product Name: POWERAPPS_VIRAL\n",
      "SKU ID: 4b9405b0-7788-4568-add1-99614e613b69 | Product Name: EXCHANGESTANDARD\n",
      "SKU ID: 295a8eb0-f78d-45c7-8b5b-1eed5ed02dff | Product Name: MCOCAP\n",
      "SKU ID: 36a0f3b3-adb5-49ea-bf66-762134cf063a | Product Name: Microsoft_Teams_Premium\n",
      "SKU ID: 338148b6-1b11-4102-afb9-f92b6cdc0f8d | Product Name: DYN365_ENTERPRISE_P1_IW\n",
      "SKU ID: 57f3babd-73ce-40de-bcb2-dadbfbfff9f7 | Product Name: POWERAPPS_PORTALS_LOGIN_T2\n",
      "SKU ID: 556640c0-53ea-4773-907d-29c55332983f | Product Name: Microsoft_Cloud_for_Sustainability_vTrial\n",
      "SKU ID: 610b16c2-bc9b-4b6b-b59f-0168123049ad | Product Name: VIDEO_INTEROP\n",
      "SKU ID: 481f3bc2-5756-4b28-9375-5c8c86b99e6b | Product Name: Clipchamp_Standard\n",
      "SKU ID: b49494c3-64d5-42da-9e32-ca44cb37f259 | Product Name: M365_DISC0VER_RESPOND\n",
      "SKU ID: 84a661c4-e949-4bd2-a560-ed7766fcaf2b | Product Name: AAD_PREMIUM_P2\n",
      "SKU ID: 0fe440c5-f2bf-442b-a4f4-9a7af77a200b | Product Name: Clipchamp_Premium\n",
      "SKU ID: a1f582c8-06a0-4b27-9678-c28a37c97eaa | Product Name: Python_in_Excel_for_Admin\n",
      "SKU ID: a403ebcc-fae0-4ca2-8c8c-7a907fd6c235 | Product Name: POWER_BI_STANDARD\n",
      "SKU ID: c2273bd0-dff7-4215-9ef5-2c7bcfb06425 | Product Name: OFFICESUBSCRIPTION\n",
      "SKU ID: 38b434d2-a15e-4cde-9a98-e737c75623e1 | Product Name: VISIO_PLAN2_DEPT\n",
      "SKU ID: 26d45bd9-adf1-46cd-a9e1-51e9a5524128 | Product Name: ENTERPRISEPREMIUM_NOPSTNCONF\n",
      "SKU ID: 111046dd-295b-4d6d-9724-d52ac90bd1f2 | Product Name: WIN_DEF_ATP\n",
      "SKU ID: c1d032e0-5619-4761-9b5c-75b6831e1711 | Product Name: PBI_PREMIUM_PER_USER\n",
      "SKU ID: 3f9f06f5-3c31-472c-985f-62d9c10ec167 | Product Name: Power_Pages_vTrial_for_Makers\n",
      "SKU ID: b30411f5-fea1-4a59-9ad9-3db7c7ead579 | Product Name: POWERAPPS_PER_USER\n",
      "SKU ID: efccb6f7-5641-4e0e-bd10-b4976e1bf68e | Product Name: EMS\n",
      "SKU ID: 90d8b3f8-712e-4f7b-aa1e-62e7ae6cbe96 | Product Name: SMB_APPS\n",
      "SKU ID: fcecd1f9-a91e-488d-a918-a96cdb6ce2b0 | Product Name: AX7_USER_TRIAL\n",
      "SKU ID: 36b997fd-0b80-4f46-b689-2ca03be5b5d8 | Product Name: D365_IOM\n",
      "SKU ID: 078d2b04-f1bd-4111-bbd4-b4b1b354cef4 | Product Name: AAD_PREMIUM\n",
      "SKU ID: 6ee9b90c-0a7a-46c4-bc96-6698aa3bf8d2 | Product Name: SharePoint_advanced_management_plan_1\n",
      "SKU ID: 61bec411-e46a-4dab-8f46-8b58ec845ffe | Product Name: MEETING_ROOM_NOAUDIOCONF\n",
      "SKU ID: 05e9a617-0261-4cee-bb44-138d3ef5d965 | Product Name: SPE_E3\n",
      "SKU ID: 4b244418-9658-4451-a2b8-b5e2b364e9bd | Product Name: VISIOONLINE_PLAN1\n",
      "SKU ID: fde97e18-f07c-4b29-8fc4-d47b9c0607e8 | Product Name: Security_Copilot_EAP\n",
      "SKU ID: 53818b1b-4a27-454b-8896-0dba576410e6 | Product Name: PROJECTPROFESSIONAL\n",
      "SKU ID: eda1941c-3c4f-4995-b5eb-e85a42175ab9 | Product Name: POWERAUTOMATE_ATTENDED_RPA\n",
      "SKU ID: 66b55226-6b4f-492c-910c-a3b7a3c9d993 | Product Name: SPE_F1\n",
      "SKU ID: e612d426-6bc3-4181-9658-91aa906b0ac0 | Product Name: CDS_DB_CAPACITY\n",
      "SKU ID: 52ea0e27-ae73-4983-a08f-13561ebdb823 | Product Name: Teams_Premium_(for_Departments)\n",
      "SKU ID: 6a4a1628-9b9a-424d-bed5-4118f0ede3fd | Product Name: PROJECT_MADEIRA_PREVIEW_IW_SKU\n",
      "SKU ID: b4d7b828-e8dc-4518-91f9-e123ae48440d | Product Name: POWERAPPS_PER_APP_NEW\n",
      "SKU ID: 52c9382a-40f7-4fd4-aeec-e6faea7725c1 | Product Name: INFOPROTECTION_P2\n",
      "SKU ID: b7b6ed32-b7a4-4b28-a5ee-a23d6d6daae9 | Product Name: Power_Automate_Hosted_RPA\n",
      "SKU ID: 8f2c2b35-8464-43b3-b8ba-0c39958929ec | Product Name: MTR_PREM_NOAUDIOCONF\n",
      "SKU ID: 50509a35-f0bd-4c5e-89ac-22f0e16a00f8 | Product Name: Microsoft_Teams_Rooms_Basic_without_Audio_Conferencing\n",
      "SKU ID: 8c4ce438-32a7-4ac5-91a6-e22ae08d9c8b | Product Name: RIGHTSMANAGEMENT_ADHOC\n",
      "SKU ID: 21943e3a-2429-4f83-84c1-02735cd49e78 | Product Name: Microsoft_Teams_Rooms_Pro_without_Audio_Conferencing\n",
      "SKU ID: 5b631642-bd26-49fe-bd20-1daaa972ef80 | Product Name: POWERAPPS_DEV\n",
      "SKU ID: 18181a46-0d4e-45cd-891e-60aabd171b4e | Product Name: STANDARDPACK\n"
     ]
    }
   ],
   "source": [
    "# import requests\n",
    "# from azure.identity import ClientSecretCredential\n",
    "\n",
    "# # 🔹 Azure AD App Credentials (Replace with your values)\n",
    "TENANT_ID = \"\"\n",
    "CLIENT_ID = \"\"\n",
    "CLIENT_SECRET = \"\"\n",
    "\n",
    "# # 🔹 Microsoft Graph API Scope\n",
    "# GRAPH_SCOPE = \"https://graph.microsoft.com/.default\"\n",
    "\n",
    "# # 🔹 Step 1: Authenticate & Get Access Token\n",
    "# def get_access_token():\n",
    "#     credential = ClientSecretCredential(\n",
    "#         tenant_id=TENANT_ID,\n",
    "#         client_id=CLIENT_ID,\n",
    "#         client_secret=CLIENT_SECRET\n",
    "#     )\n",
    "#     token = credential.get_token(GRAPH_SCOPE).token\n",
    "#     return token\n",
    "\n",
    "# # 🔹 Step 2: Fetch Available SKUs\n",
    "# def get_skus(access_token):\n",
    "#     url = \"https://graph.microsoft.com/v1.0/subscribedSkus\"\n",
    "#     headers = {\"Authorization\": f\"Bearer {access_token}\"}\n",
    "    \n",
    "#     response = requests.get(url, headers=headers)\n",
    "#     response.raise_for_status()\n",
    "    \n",
    "#     data = response.json()\n",
    "    \n",
    "#     print(\"🔹 Available SKUs in Your Organization:\")\n",
    "#     for sku in data[\"value\"]:\n",
    "#         print(f\"SKU ID: {sku['skuId']} | Product Name: {sku['skuPartNumber']}\")\n",
    "\n",
    "# # Run the script\n",
    "# if __name__ == \"__main__\":\n",
    "#     token = get_access_token()\n",
    "#     get_skus(token)\n"
   ]
  },
  {
   "cell_type": "code",
   "execution_count": null,
   "id": "dcb1b586-9a8c-4bf8-aa4b-bbeb116aa550",
   "metadata": {
    "collapsed": false,
    "microsoft": {
     "language": "python",
     "language_group": "synapse_pyspark"
    }
   },
   "outputs": [
    {
     "data": {
      "application/vnd.livy.statement-meta+json": {
       "execution_finish_time": "2025-02-21T06:20:54.945243Z",
       "execution_start_time": "2025-02-21T06:20:11.8504415Z",
       "livy_statement_state": "available",
       "normalized_state": "finished",
       "parent_msg_id": "65b66b9a-7c0f-46a1-94f4-62477c04123f",
       "queued_time": "2025-02-21T06:19:28.9337714Z",
       "session_id": "b5c0144e-0fb1-428d-a0bb-9d5dff68f8e8",
       "session_start_time": null,
       "spark_pool": null,
       "state": "finished",
       "statement_id": 11,
       "statement_ids": [
        11
       ]
      },
      "text/plain": [
       "StatementMeta(, b5c0144e-0fb1-428d-a0bb-9d5dff68f8e8, 11, Finished, Available, Finished)"
      ]
     },
     "metadata": {},
     "output_type": "display_data"
    },
    {
     "name": "stdout",
     "output_type": "stream",
     "text": [
      "✅ Power BI Pro user list saved to 'PowerBI_Pro_Users.csv'\n"
     ]
    }
   ],
   "source": [
    "import requests\n",
    "import pandas as pd\n",
    "from azure.identity import ClientSecretCredential\n",
    "\n",
    "# 🔹 Azure AD App Credentials (Replace with your values)\n",
    "TENANT_ID = \"\"\n",
    "CLIENT_ID = \"\"\n",
    "CLIENT_SECRET = \"\"\n",
    "\n",
    "# 🔹 Microsoft Graph API Scope & URL\n",
    "GRAPH_SCOPE = \"https://graph.microsoft.com/.default\"\n",
    "USERS_API_URL = \"https://graph.microsoft.com/v1.0/users?$select=id,displayName,userPrincipalName,assignedLicenses\"\n",
    "\n",
    "# 🔹 Power BI Pro SKU ID\n",
    "POWER_BI_PRO_SKU_ID = \"f8a1db68-be16-40ed-86d5-cb42ce701560\"\n",
    "\n",
    "# 🔹 Step 1: Authenticate & Get Access Token\n",
    "def get_access_token():\n",
    "    credential = ClientSecretCredential(\n",
    "        tenant_id=TENANT_ID,\n",
    "        client_id=CLIENT_ID,\n",
    "        client_secret=CLIENT_SECRET\n",
    "    )\n",
    "    token = credential.get_token(GRAPH_SCOPE).token\n",
    "    return token\n",
    "\n",
    "# 🔹 Step 2: Get Users & Filter Those with Power BI Pro\n",
    "def get_pro_users(access_token):\n",
    "    headers = {\"Authorization\": f\"Bearer {access_token}\"}\n",
    "    url = USERS_API_URL\n",
    "    pro_users = []\n",
    "\n",
    "    while url:\n",
    "        response = requests.get(url, headers=headers)\n",
    "        response.raise_for_status()\n",
    "        data = response.json()\n",
    "\n",
    "        for user in data.get(\"value\", []):\n",
    "            assigned_skus = [sku[\"skuId\"] for sku in user.get(\"assignedLicenses\", [])]\n",
    "            if POWER_BI_PRO_SKU_ID in assigned_skus:  # 🔹 Check if Pro license is assigned Add Or condiation if there are multiple SKU's\n",
    "                pro_users.append({\n",
    "                    \"User ID\": user[\"id\"],\n",
    "                    \"Name\": user[\"displayName\"],\n",
    "                    \"Email\": user[\"userPrincipalName\"]\n",
    "                })\n",
    "\n",
    "        url = data.get(\"@odata.nextLink\")  # 🔹 Handle pagination\n",
    "\n",
    "    return pro_users\n",
    "test=pd.DataFrame()\n",
    "# 🔹 Step 3: Fetch Data & Save to CSV\n",
    "\n",
    "access_token = get_access_token()\n",
    "pro_users = get_pro_users(access_token)\n",
    "if pro_users:\n",
    "    df_prousers = pd.DataFrame(pro_users)\n",
    "    # df.to_csv(\"PowerBI_Pro_Users.csv\", index=False)\n",
    "    print(\"✅ Power BI Pro user list saved to 'PowerBI_Pro_Users.csv'\")\n",
    "    # display(df)\n",
    "        \n",
    "else:\n",
    "    print(\"⚠️ No users found with Power BI Pro license.\")\n",
    "\n",
    "\n"
   ]
  },
  {
   "cell_type": "code",
   "execution_count": 10,
   "id": "e242136c-52d3-485d-a9da-1e060fb2cc72",
   "metadata": {
    "microsoft": {
     "language": "python",
     "language_group": "synapse_pyspark"
    }
   },
   "outputs": [
    {
     "data": {
      "application/vnd.livy.statement-meta+json": {
       "execution_finish_time": "2025-02-21T06:21:00.5411303Z",
       "execution_start_time": "2025-02-21T06:20:55.1470499Z",
       "livy_statement_state": "available",
       "normalized_state": "finished",
       "parent_msg_id": "e89d2fea-00c8-49e8-8a10-16f19962571c",
       "queued_time": "2025-02-21T06:19:29.8517113Z",
       "session_id": "b5c0144e-0fb1-428d-a0bb-9d5dff68f8e8",
       "session_start_time": null,
       "spark_pool": null,
       "state": "finished",
       "statement_id": 12,
       "statement_ids": [
        12
       ]
      },
      "text/plain": [
       "StatementMeta(, b5c0144e-0fb1-428d-a0bb-9d5dff68f8e8, 12, Finished, Available, Finished)"
      ]
     },
     "metadata": {},
     "output_type": "display_data"
    },
    {
     "name": "stdout",
     "output_type": "stream",
     "text": [
      "✅ Delta table 'PowerBIProUsers' successfully created with column mapping mode 'name'.\n"
     ]
    }
   ],
   "source": [
    "from pyspark.sql import SparkSession\n",
    "\n",
    "path = \"abfss://d3120490-76ae-4ef4-a440-2bd65732ccdc@onelake.dfs.fabric.microsoft.com/fecab367-5d3a-41c1-8037-7801192932ba/Files\"\n",
    "# Initialize Spark Session (If Not Already Started)\n",
    "spark = SparkSession.builder.appName(\"DeltaTableWrite\").getOrCreate()\n",
    "\n",
    "df_prousers.to_parquet(path+\"/prousers.parquet\")\n",
    "\n",
    "# Read Parquet File from Fabric OneLake\n",
    "df_new = spark.read.parquet(\n",
    "    path+\"prousers.parquet\"\n",
    ")\n",
    "\n",
    "# Enable Delta Column Mapping by Name\n",
    "spark.conf.set(\"spark.databricks.delta.properties.defaults.columnMapping.mode\", \"name\")\n",
    "\n",
    "# Write Data as Delta Table with Overwrite Mode\n",
    "df_new.write.mode(\"overwrite\").format(\"delta\").option(\"delta.columnMapping.mode\", \"name\").saveAsTable(\"PowerBIProUsers\")\n",
    "\n",
    "print(\"✅ Delta table 'PowerBIProUsers' successfully created with column mapping mode 'name'.\")\n"
   ]
  },
  {
   "cell_type": "code",
   "execution_count": null,
   "id": "88cc0e1c-3d22-40b9-a3e1-0c8e7bf9477f",
   "metadata": {
    "microsoft": {
     "language": "python",
     "language_group": "synapse_pyspark"
    }
   },
   "outputs": [],
   "source": []
  }
 ],
 "metadata": {
  "dependencies": {
   "lakehouse": {
    "default_lakehouse": "fecab367-5d3a-41c1-8037-7801192932ba",
    "default_lakehouse_name": "Fabric",
    "default_lakehouse_workspace_id": "d3120490-76ae-4ef4-a440-2bd65732ccdc"
   }
  },
  "kernel_info": {
   "name": "synapse_pyspark"
  },
  "kernelspec": {
   "display_name": "Synapse PySpark",
   "language": "Python",
   "name": "synapse_pyspark"
  },
  "language_info": {
   "name": "python"
  },
  "microsoft": {
   "language": "python",
   "language_group": "synapse_pyspark",
   "ms_spell_check": {
    "ms_spell_check_language": "en"
   }
  },
  "nteract": {
   "version": "nteract-front-end@1.0.0"
  },
  "spark_compute": {
   "compute_id": "/trident/default",
   "session_options": {
    "conf": {
     "spark.synapse.nbs.session.timeout": "1200000"
    }
   }
  },
  "synapse_widget": {
   "state": {},
   "version": "0.1"
  }
 },
 "nbformat": 4,
 "nbformat_minor": 5
}
